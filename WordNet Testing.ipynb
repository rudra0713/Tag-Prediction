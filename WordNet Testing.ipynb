{
 "cells": [
  {
   "cell_type": "code",
   "execution_count": 25,
   "metadata": {},
   "outputs": [],
   "source": [
    "from textblob import TextBlob\n",
    "from textblob import Word\n",
    "from nltk.corpus import wordnet as wn\n",
    "from textblob.wordnet import Synset\n",
    "\n"
   ]
  },
  {
   "cell_type": "code",
   "execution_count": 5,
   "metadata": {},
   "outputs": [
    {
     "data": {
      "text/plain": [
       "[Synset('plant.n.01'),\n",
       " Synset('plant.n.02'),\n",
       " Synset('plant.n.03'),\n",
       " Synset('plant.n.04'),\n",
       " Synset('plant.v.01')]"
      ]
     },
     "execution_count": 5,
     "metadata": {},
     "output_type": "execute_result"
    }
   ],
   "source": [
    "word = Word(\"plant\")\n",
    "word.synsets[:5]"
   ]
  },
  {
   "cell_type": "code",
   "execution_count": 6,
   "metadata": {},
   "outputs": [
    {
     "data": {
      "text/plain": [
       "['buildings for carrying on industrial labor',\n",
       " '(botany) a living organism lacking the power of locomotion',\n",
       " 'an actor situated in the audience whose acting is rehearsed but seems spontaneous to the audience',\n",
       " 'something planted secretly for discovery by another',\n",
       " 'put or set (seeds, seedlings, or plants) into the ground']"
      ]
     },
     "execution_count": 6,
     "metadata": {},
     "output_type": "execute_result"
    }
   ],
   "source": [
    "word.definitions[:5]"
   ]
  },
  {
   "cell_type": "code",
   "execution_count": 14,
   "metadata": {},
   "outputs": [
    {
     "name": "stdout",
     "output_type": "stream",
     "text": [
      "['plant', 'flora', 'plant_life']\n"
     ]
    }
   ],
   "source": [
    "#The synonyms contained within a synset are called lemmas. You can access the string versions of these synonyms via a Synset's lemma_names property.\n",
    "plant = word.synsets[1]\n",
    "print(plant.lemma_names(lang='eng'))"
   ]
  },
  {
   "cell_type": "code",
   "execution_count": 9,
   "metadata": {},
   "outputs": [
    {
     "name": "stdout",
     "output_type": "stream",
     "text": [
      "[Synset('organism.n.01')]\n",
      "[Synset('acrogen.n.01'), Synset('air_plant.n.01'), Synset('annual.n.01')]\n"
     ]
    }
   ],
   "source": [
    "#hypernyms are the synsets that are more general\n",
    "#hyponyms are the synsets that are more specific\n",
    "print(plant.hypernyms())\n",
    "print(plant.hyponyms()[:3])"
   ]
  },
  {
   "cell_type": "code",
   "execution_count": 10,
   "metadata": {},
   "outputs": [
    {
     "name": "stdout",
     "output_type": "stream",
     "text": [
      "[Synset('plantae.n.01')]\n",
      "[Synset('hood.n.02'), Synset('plant_part.n.01')]\n"
     ]
    }
   ],
   "source": [
    "#holonyms are things that the item is contained in\n",
    "#meronyms are components or substances that make up the item\n",
    "print(plant.member_holonyms())\n",
    "print(plant.part_meronyms())"
   ]
  },
  {
   "cell_type": "code",
   "execution_count": 12,
   "metadata": {},
   "outputs": [
    {
     "name": "stdout",
     "output_type": "stream",
     "text": [
      "1.0\n",
      "0.3333333333333333\n",
      "0.1111111111111111\n",
      "0.06666666666666667\n"
     ]
    }
   ],
   "source": [
    "from textblob.wordnet import Synset\n",
    "octopus = Synset(\"octopus.n.02\")\n",
    "nautilus = Synset('paper_nautilus.n.01')\n",
    "shrimp = Synset('shrimp.n.03')\n",
    "pearl = Synset('pearl.n.01')\n",
    "\n",
    "print(octopus.path_similarity(octopus))  # 1.0\n",
    "print(octopus.path_similarity(nautilus))  # 0.33\n",
    "print(octopus.path_similarity(shrimp))  # 0.11\n",
    "print(octopus.path_similarity(pearl))"
   ]
  },
  {
   "cell_type": "code",
   "execution_count": 57,
   "metadata": {},
   "outputs": [
    {
     "name": "stdout",
     "output_type": "stream",
     "text": [
      "[Synset('java.n.01'), Synset('coffee.n.01'), Synset('java.n.03')]\n",
      "[\"an island in Indonesia to the south of Borneo; one of the world's most densely populated regions\", 'a beverage consisting of an infusion of ground coffee beans', 'a platform-independent object-oriented programming language']\n",
      "['he ordered a cup of coffee']\n",
      "Synset('hypertext_markup_language.n.01')\n",
      "a set of tags and rules (conforming to SGML) for using them in developing hypertext documents\n",
      "0.09090909090909091\n"
     ]
    }
   ],
   "source": [
    "word = Word(\"java\")\n",
    "print(word.synsets[:5])\n",
    "print(word.definitions[:5])\n",
    "java = word.synsets[1]\n",
    "print(java.examples())\n",
    "word = Word(\"html\")\n",
    "print(word.synsets[0])\n",
    "print(word.definitions[0])\n",
    "html = word.synsets[0]\n",
    "print(java.path_similarity(html)) \n",
    "\n",
    "# print(java.lemma_names(lang='eng'))"
   ]
  },
  {
   "cell_type": "code",
   "execution_count": 45,
   "metadata": {},
   "outputs": [
    {
     "name": "stdout",
     "output_type": "stream",
     "text": [
      "for or pertaining to or composed of men or boys\n",
      "['male']\n"
     ]
    }
   ],
   "source": [
    "word = Word('male')\n",
    "print(word.definitions[5])\n",
    "male = word.synsets[5]\n",
    "print(male.lemma_names(lang='eng'))"
   ]
  },
  {
   "cell_type": "code",
   "execution_count": 48,
   "metadata": {},
   "outputs": [],
   "source": [
    "from nltk.corpus import wordnet as wn\n"
   ]
  },
  {
   "cell_type": "code",
   "execution_count": 49,
   "metadata": {},
   "outputs": [
    {
     "name": "stdout",
     "output_type": "stream",
     "text": [
      "[Synset('dog.n.01'), Synset('frump.n.01'), Synset('dog.n.03'), Synset('cad.n.01'), Synset('frank.n.02'), Synset('pawl.n.01'), Synset('andiron.n.01'), Synset('chase.v.01')]\n"
     ]
    }
   ],
   "source": [
    "print(wn.synsets('dog'))"
   ]
  },
  {
   "cell_type": "code",
   "execution_count": 50,
   "metadata": {},
   "outputs": [
    {
     "name": "stdout",
     "output_type": "stream",
     "text": [
      "[Synset('chase.v.01')]\n"
     ]
    }
   ],
   "source": [
    "print(wn.synsets('dog', pos=wn.VERB))"
   ]
  },
  {
   "cell_type": "code",
   "execution_count": 55,
   "metadata": {},
   "outputs": [
    {
     "name": "stdout",
     "output_type": "stream",
     "text": [
      "a member of the genus Canis (probably descended from the common wolf) that has been domesticated by man since prehistoric times; occurs in many breeds\n"
     ]
    }
   ],
   "source": [
    "print(wn.synset('dog.n.01').definition())"
   ]
  },
  {
   "cell_type": "code",
   "execution_count": 95,
   "metadata": {},
   "outputs": [
    {
     "data": {
      "text/plain": [
       "['Java']"
      ]
     },
     "execution_count": 95,
     "metadata": {},
     "output_type": "execute_result"
    }
   ],
   "source": [
    "[lemma.name() for lemma in wn.synset('java.n.03').lemmas()]"
   ]
  },
  {
   "cell_type": "code",
   "execution_count": 77,
   "metadata": {},
   "outputs": [
    {
     "name": "stdout",
     "output_type": "stream",
     "text": [
      "an island in Indonesia to the south of Borneo; one of the world's most densely populated regions\n",
      "a beverage consisting of an infusion of ground coffee beans\n",
      "a platform-independent object-oriented programming language\n",
      "[]\n"
     ]
    }
   ],
   "source": [
    "code = wn.synsets('java')\n",
    "\n",
    "for synset in code:\n",
    "    print(synset.definition())\n",
    "x = wn.synset('java.n.03').topic_domains()\n",
    "print(x)"
   ]
  },
  {
   "cell_type": "code",
   "execution_count": 80,
   "metadata": {},
   "outputs": [
    {
     "data": {
      "text/plain": [
       "['dog', 'domestic_dog', 'Canis_familiaris']"
      ]
     },
     "execution_count": 80,
     "metadata": {},
     "output_type": "execute_result"
    }
   ],
   "source": [
    "[str(lemma.name()) for lemma in wn.synset('dog.n.01').lemmas()]"
   ]
  },
  {
   "cell_type": "code",
   "execution_count": 92,
   "metadata": {},
   "outputs": [
    {
     "name": "stdout",
     "output_type": "stream",
     "text": [
      "Synset('domestic_animal.n.01')\n",
      "Synset('animal.n.01')\n",
      "Synset('organism.n.01')\n",
      "Synset('living_thing.n.01')\n",
      "Synset('whole.n.02')\n",
      "Synset('object.n.01')\n",
      "Synset('physical_entity.n.01')\n",
      "Synset('entity.n.01')\n",
      ".........\n",
      "Synset('feline.n.01')\n",
      "Synset('carnivore.n.01')\n",
      "Synset('placental.n.01')\n",
      "Synset('mammal.n.01')\n",
      "Synset('vertebrate.n.01')\n",
      "Synset('chordate.n.01')\n",
      "Synset('animal.n.01')\n",
      "Synset('organism.n.01')\n",
      "Synset('living_thing.n.01')\n",
      "Synset('whole.n.02')\n",
      "Synset('object.n.01')\n",
      "Synset('physical_entity.n.01')\n",
      "Synset('entity.n.01')\n",
      "0.16666666666666666\n"
     ]
    }
   ],
   "source": [
    "def get_parent_classes(synset):\n",
    "    while True:\n",
    "        try:\n",
    "            synset = synset.hypernyms()[-1]\n",
    "            print(synset)\n",
    "        except IndexError:\n",
    "            break \n",
    "# find the hypernyms of the word \"dog\"\n",
    "dog = wn.synset('dog.n.01')\n",
    "get_parent_classes(dog)\n",
    "print(\".........\")\n",
    "cat = wn.synset('cat.n.01')\n",
    "get_parent_classes(cat)\n",
    "print(wn.synset('male.n.01').path_similarity(wn.synset('child.n.01')))"
   ]
  },
  {
   "cell_type": "code",
   "execution_count": 90,
   "metadata": {},
   "outputs": [
    {
     "name": "stdout",
     "output_type": "stream",
     "text": [
      "[Synset('child.n.01'), Synset('child.n.02'), Synset('child.n.03'), Synset('child.n.04')]\n"
     ]
    }
   ],
   "source": [
    "print(wn.synsets('child'))"
   ]
  },
  {
   "cell_type": "code",
   "execution_count": 98,
   "metadata": {},
   "outputs": [
    {
     "name": "stdout",
     "output_type": "stream",
     "text": [
      "{'near', 'sound', 'expert', 'beneficial', 'respectable', 'just', 'secure', 'dependable', 'estimable', 'goodness', 'serious', 'dear', 'right', 'good', 'honest', 'trade_good', 'full', 'in_force', 'salutary', 'skilful', 'commodity', 'ripe', 'undecomposed', 'unspoiled', 'upright', 'honorable', 'proficient', 'adept', 'effective', 'in_effect', 'soundly', 'skillful', 'well', 'practiced', 'safe', 'unspoilt', 'thoroughly'}\n",
      "{'badness', 'bad', 'evilness', 'evil', 'ill'}\n"
     ]
    }
   ],
   "source": [
    "synonyms = []\n",
    "antonyms = []\n",
    "\n",
    "for syn in wn.synsets(\"good\"):\n",
    "    for l in syn.lemmas():\n",
    "        synonyms.append(l.name())\n",
    "        if l.antonyms():\n",
    "            antonyms.append(l.antonyms()[0].name())\n",
    "\n",
    "print(set(synonyms))\n",
    "print(set(antonyms))"
   ]
  },
  {
   "cell_type": "code",
   "execution_count": 103,
   "metadata": {},
   "outputs": [
    {
     "name": "stdout",
     "output_type": "stream",
     "text": [
      "41397\n",
      "6510\n"
     ]
    }
   ],
   "source": [
    "import json\n",
    "with open('./tags.json') as f:\n",
    "    data = json.load(f)\n",
    "print(len(data['tags']))\n",
    "all_tags = data['tags']\n",
    "found = 0\n",
    "for word in all_tags:\n",
    "    if len(wn.synsets(word)) > 0:\n",
    "        found += 1\n",
    "print(found)        "
   ]
  },
  {
   "cell_type": "code",
   "execution_count": 104,
   "metadata": {},
   "outputs": [],
   "source": [
    "from PyDictionary import PyDictionary\n",
    "\n",
    "dictionary=PyDictionary()"
   ]
  },
  {
   "cell_type": "code",
   "execution_count": 107,
   "metadata": {},
   "outputs": [
    {
     "name": "stdout",
     "output_type": "stream",
     "text": [
      "{'Noun': ['large Old World boas', 'a soothsaying spirit or a person who is possessed by such a spirit', '(Greek mythology']}\n"
     ]
    },
    {
     "name": "stderr",
     "output_type": "stream",
     "text": [
      "/anaconda3/lib/python3.6/site-packages/bs4/__init__.py:181: UserWarning: No parser was explicitly specified, so I'm using the best available HTML parser for this system (\"lxml\"). This usually isn't a problem, but if you run this code on another system, or in a different virtual environment, it may use a different parser and behave differently.\n",
      "\n",
      "The code that caused this warning is on line 193 of the file /anaconda3/lib/python3.6/runpy.py. To get rid of this warning, change code that looks like this:\n",
      "\n",
      " BeautifulSoup(YOUR_MARKUP})\n",
      "\n",
      "to this:\n",
      "\n",
      " BeautifulSoup(YOUR_MARKUP, \"lxml\")\n",
      "\n",
      "  markup_type=markup_type))\n"
     ]
    }
   ],
   "source": [
    "print (dictionary.meaning(\"python\"))"
   ]
  },
  {
   "cell_type": "code",
   "execution_count": 75,
   "metadata": {},
   "outputs": [
    {
     "name": "stdout",
     "output_type": "stream",
     "text": [
      "[Synset('canada.n.01')]\n",
      "['a nation in northern North America; the French were the first Europeans to settle in mainland Canada']\n",
      "1\n"
     ]
    }
   ],
   "source": [
    "word = Word(\"canada\")\n",
    "print((word.synsets))\n",
    "print(word.definitions)\n",
    "print(len(word.definitions))"
   ]
  },
  {
   "cell_type": "code",
   "execution_count": 73,
   "metadata": {},
   "outputs": [],
   "source": [
    "def get_parent_hypernyms(synset):\n",
    "    rev_path = []\n",
    "    while True:\n",
    "        try:\n",
    "            synset = synset.hypernyms()[-1]\n",
    "            rev_path.append(synset.lemma_names(lang='eng')[0])\n",
    "        except IndexError:\n",
    "            break\n",
    "    return rev_path\n",
    "\n",
    "def get_parent_meronyms(synset):\n",
    "    rev_path = []\n",
    "    while True:\n",
    "        try:\n",
    "            synset = synset.part_meronyms()[-1]\n",
    "            rev_path.append(synset.lemma_names(lang='eng')[0])\n",
    "        except IndexError:\n",
    "            break\n",
    "    return rev_path\n",
    "# find the hypernyms of the word \"dog\"\n",
    "# vancouver = wn.synset('vancouver.n.03')\n",
    "# get_parent_classes(vancouver)\n"
   ]
  },
  {
   "cell_type": "code",
   "execution_count": 83,
   "metadata": {},
   "outputs": [
    {
     "name": "stdout",
     "output_type": "stream",
     "text": [
      "['Yukon', 'Whitehorse']\n",
      ".........\n",
      "[]\n"
     ]
    }
   ],
   "source": [
    "canada = wn.synset('canada.n.01')\n",
    "x = get_parent_meronyms(canada)\n",
    "print(x)\n",
    "print(\".........\")\n",
    "\n",
    "vancouver = wn.synset('vancouver.n.03')\n",
    "y = get_parent_meronyms(vancouver)\n",
    "print(y)\n",
    "# answer = []\n",
    "# answer.append('english.n.01')\n",
    "# print(y[0:4])\n",
    "# for elem in x:\n",
    "#     if elem in y:\n",
    "#         answer.append(elem)\n",
    "#         index = y.index(elem)\n",
    "#         answer += list(reversed(y[0:index]))\n",
    "#         answer.append('tagalog.n.02')\n",
    "#         break\n",
    "#     answer.append(elem)\n",
    "# print(answer)\n"
   ]
  },
  {
   "cell_type": "code",
   "execution_count": 88,
   "metadata": {},
   "outputs": [
    {
     "name": "stdout",
     "output_type": "stream",
     "text": [
      "[Synset('line.n.01'), Synset('line.n.02'), Synset('line.n.03'), Synset('line.n.04'), Synset('line.n.05'), Synset('line.n.06'), Synset('line.n.07'), Synset('argumentation.n.02'), Synset('cable.n.02'), Synset('course.n.02'), Synset('line.n.11'), Synset('wrinkle.n.01'), Synset('pipeline.n.02'), Synset('line.n.14'), Synset('telephone_line.n.02'), Synset('line.n.16'), Synset('lineage.n.01'), Synset('line.n.18'), Synset('occupation.n.01'), Synset('line.n.20'), Synset('channel.n.05'), Synset('line.n.22'), Synset('line.n.23'), Synset('agate_line.n.01'), Synset('credit_line.n.01'), Synset('tune.n.01'), Synset('line.n.27'), Synset('note.n.02'), Synset('line.n.29'), Synset('production_line.n.01'), Synset('line.v.01'), Synset('line.v.02'), Synset('trace.v.02'), Synset('line.v.04'), Synset('line.v.05'), Synset('line.v.06')]\n",
      "['a formation of people or things one beside another', 'a mark that is long relative to its width', 'a formation of people or things one behind another', 'a length (straight or curved) without breadth or thickness; the trace of a moving point', 'text consisting of a row of words written across a page or computer screen', 'a single frequency (or very narrow band) of radiation in a spectrum', 'a fortified position (especially one marking the most forward position of troops)', 'a course of reasoning aimed at demonstrating a truth or falsehood; the methodical process of logical reasoning', 'a conductor for transmitting electrical or optical signals or electric power', 'a connected series of events or actions or developments', 'a spatial location defined by a real or imaginary unidimensional extent', 'a slight depression in the smoothness of a surface', 'a pipe used to transport liquids or gases', 'the road consisting of railroad track and roadbed', 'a telephone connection', 'acting in conformity', 'the descendants of one individual', 'something (as a cord or rope) that is long and thin and flexible', 'the principal activity in your life that you do to earn money', 'in games or sports; a mark indicating positions or bounds of the playing area', '(often plural) a means of communication or access', 'a particular kind of product or merchandise', 'a commercial organization serving as a common carrier', 'space for one line of print (one column wide and 1/14 inch deep) used to measure advertising', 'the maximum credit that a customer is allowed', 'a succession of notes forming a distinctive sequence', 'persuasive but insincere talk that is usually intended to deceive or impress', 'a short personal letter', 'a conceptual separation or distinction', 'mechanical system in a factory whereby an article is conveyed through sites at which successive operations are performed on it', 'be in line with; form a line along', 'cover the interior of', 'make a mark or lines on a surface', 'mark with lines', 'fill plentifully', 'reinforce with fabric']\n",
      "0.3333333333333333\n",
      "Synset('line.n.01')\n",
      "Synset('line.n.03')\n",
      "0.05263157894736842\n",
      "a course of reasoning aimed at demonstrating a truth or falsehood; the methodical process of logical reasoning\n",
      "a pipe used to transport liquids or gases\n"
     ]
    }
   ],
   "source": [
    "word = Word(\"line\")\n",
    "print((word.synsets))\n",
    "print(word.definitions)\n",
    "max_syn1 = None\n",
    "max_syn2 = None\n",
    "max_v = 0\n",
    "\n",
    "min_syn1 = None\n",
    "min_syn2 = None\n",
    "min_v = 100\n",
    "\n",
    "\n",
    "\n",
    "for syn1 in word.synsets:\n",
    "    for syn2 in word.synsets:\n",
    "        if syn1 != syn2:\n",
    "            if syn1.path_similarity(syn2) and syn1.path_similarity(syn2) > max_v:\n",
    "                max_v = syn1.path_similarity(syn2)\n",
    "                max_syn1 = syn1\n",
    "                max_syn2 = syn2\n",
    "            if syn1.path_similarity(syn2) and syn1.path_similarity(syn2) < min_v:\n",
    "                min_v = syn1.path_similarity(syn2)\n",
    "                min_syn1 = syn1\n",
    "                min_syn2 = syn2\n",
    "\n",
    "\n",
    "print(max_v)\n",
    "print(max_syn1)\n",
    "print(max_syn2)\n",
    "            \n",
    "print(min_v)\n",
    "print(min_syn1.definition())\n",
    "print(min_syn2.definition())\n",
    "            "
   ]
  },
  {
   "cell_type": "code",
   "execution_count": null,
   "metadata": {},
   "outputs": [],
   "source": []
  }
 ],
 "metadata": {
  "kernelspec": {
   "display_name": "Python 3",
   "language": "python",
   "name": "python3"
  },
  "language_info": {
   "codemirror_mode": {
    "name": "ipython",
    "version": 3
   },
   "file_extension": ".py",
   "mimetype": "text/x-python",
   "name": "python",
   "nbconvert_exporter": "python",
   "pygments_lexer": "ipython3",
   "version": "3.6.5"
  }
 },
 "nbformat": 4,
 "nbformat_minor": 2
}
